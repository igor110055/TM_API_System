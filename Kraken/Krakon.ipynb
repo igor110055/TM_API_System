{
 "cells": [
  {
   "cell_type": "code",
   "execution_count": 17,
   "metadata": {},
   "outputs": [],
   "source": [
    "import hmac\n",
    "import time\n",
    "import hashlib\n",
    "import requests\n",
    "from urllib.parse import urlencode\n",
    "\n",
    "from pandas import json_normalize"
   ]
  },
  {
   "cell_type": "code",
   "execution_count": 18,
   "metadata": {},
   "outputs": [],
   "source": [
    "def dispatch_request(http_method):\n",
    "    session = requests.Session()\n",
    "    session.headers.update({\n",
    "        'Content-Type': 'application/json;charset=utf-8',\n",
    "        'X-MBX-APIKEY': KEY\n",
    "    })\n",
    "    return {\n",
    "        'GET': session.get,\n",
    "        'DELETE': session.delete,\n",
    "        'PUT': session.put,\n",
    "        'POST': session.post,\n",
    "    }.get(http_method, 'GET')"
   ]
  },
  {
   "cell_type": "code",
   "execution_count": 28,
   "metadata": {},
   "outputs": [],
   "source": [
    "KEY = 'asdasd'\n",
    "url = 'https://api.kraken.com/0'  "
   ]
  },
  {
   "cell_type": "code",
   "execution_count": 29,
   "metadata": {},
   "outputs": [],
   "source": [
    "params = {'url': url, 'params': {}}"
   ]
  },
  {
   "cell_type": "code",
   "execution_count": 34,
   "metadata": {},
   "outputs": [
    {
     "data": {
      "text/plain": [
       "<bound method Session.get of <requests.sessions.Session object at 0x7ff450e8d310>>"
      ]
     },
     "execution_count": 34,
     "metadata": {},
     "output_type": "execute_result"
    }
   ],
   "source": [
    "dispatch_request('GET')"
   ]
  },
  {
   "cell_type": "code",
   "execution_count": 2,
   "metadata": {},
   "outputs": [
    {
     "data": {
      "text/plain": [
       "' ======  end of functions ====== '"
      ]
     },
     "execution_count": 2,
     "metadata": {},
     "output_type": "execute_result"
    }
   ],
   "source": [
    "\n",
    "''' ======  begin of functions, you don't need to touch ====== '''\n",
    "def hashing(query_string):\n",
    "    return hmac.new(SECRET.encode('utf-8'), query_string.encode('utf-8'), hashlib.sha256).hexdigest()\n",
    "\n",
    "def get_timestamp():\n",
    "    return int(time.time() * 1000)\n",
    "\n",
    "\n",
    "def dispatch_request(http_method):\n",
    "    session = requests.Session()\n",
    "    session.headers.update({\n",
    "        'Content-Type': 'application/json;charset=utf-8',\n",
    "        'X-MBX-APIKEY': KEY\n",
    "    })\n",
    "    return {\n",
    "        'GET': session.get,\n",
    "        'DELETE': session.delete,\n",
    "        'PUT': session.put,\n",
    "        'POST': session.post,\n",
    "    }.get(http_method, 'GET')\n",
    "\n",
    "# used for sending request requires the signature\n",
    "def send_signed_request(http_method, url_path, payload={}):\n",
    "    query_string = urlencode(payload, True)\n",
    "    \n",
    "    if query_string:\n",
    "        query_string = \"{}&timestamp={}\".format(query_string, get_timestamp())\n",
    "    else:\n",
    "        query_string = 'timestamp={}'.format(get_timestamp())\n",
    "\n",
    "    url = BASE_URL + url_path + '?' + query_string + '&signature=' + hashing(query_string)\n",
    "    # print(\"{} {}\".format(http_method, url))\n",
    "    params = {'url': url, 'params': {}}\n",
    "    response = dispatch_request(http_method)(**params)\n",
    "    return response.json()\n",
    "\n",
    "# used for sending public data request\n",
    "def send_public_request(url_path, payload={}):\n",
    "    query_string = urlencode(payload, True)\n",
    "    url = BASE_URL + url_path\n",
    "    if query_string:\n",
    "        url = url + '?' + query_string\n",
    "    # print(\"{}\".format(url))\n",
    "    # response = dispatch_request('GET')(url=url)\n",
    "    response = requests.get(url)\n",
    "    return response.json()\n",
    "\n",
    "''' ======  end of functions ====== '''"
   ]
  },
  {
   "cell_type": "code",
   "execution_count": 22,
   "metadata": {},
   "outputs": [],
   "source": [
    "BASE_URL = 'https://api.kraken.com/0'   \n",
    "url_path = '/public/Assets'\n",
    "\n",
    "payload = {\n",
    "    'asset':'XBT'\n",
    "}\n",
    "\n",
    "query_string = urlencode(payload, True)\n",
    "url = BASE_URL + url_path\n",
    "\n",
    "if query_string:\n",
    "    url = url + '?' + query_string\n",
    "    \n",
    "response = requests.get(url)\n",
    "result = response.json()\n",
    "\n",
    "json_normalize(result['result']['XXBT'])"
   ]
  },
  {
   "cell_type": "code",
   "execution_count": 8,
   "metadata": {},
   "outputs": [],
   "source": [
    "keys_file = open(\"../../APIs/Kraken.txt\")\n",
    "lines = keys_file.readlines()\n",
    "\n",
    "api_key = lines[1].rstrip()\n",
    "private_key = lines[3].rstrip()"
   ]
  },
  {
   "cell_type": "code",
   "execution_count": 11,
   "metadata": {},
   "outputs": [],
   "source": [
    "import urllib.parse\n",
    "import hashlib\n",
    "import hmac\n",
    "import base64\n",
    "\n",
    "def get_kraken_signature(urlpath, data, secret):\n",
    "\n",
    "    postdata = urllib.parse.urlencode(data)\n",
    "    encoded = (str(data['nonce']) + postdata).encode()\n",
    "    message = urlpath.encode() + hashlib.sha256(encoded).digest()\n",
    "\n",
    "    mac = hmac.new(base64.b64decode(secret), message, hashlib.sha512)\n",
    "    sigdigest = base64.b64encode(mac.digest())\n",
    "    return sigdigest.decode()"
   ]
  },
  {
   "cell_type": "code",
   "execution_count": 12,
   "metadata": {},
   "outputs": [
    {
     "name": "stdout",
     "output_type": "stream",
     "text": [
      "API-Sign: 4/dpxb3iT4tp/ZCVEwSnEsLxx0bqyhLpdfOpc6fn7OR8+UClSV5n9E6aSS8MPtnRfp32bAb0nmbRn6H8ndwLUQ==\n"
     ]
    }
   ],
   "source": [
    "api_sec = \"kQH5HW/8p1uGOVjbgWA7FunAmGO8lsSUXNsu3eow76sz84Q18fWxnyRzBHCd3pd5nE9qa99HAZtuZuj6F1huXg==\"\n",
    "\n",
    "data = {\n",
    "    \"nonce\": \"1616492376594\", \n",
    "    \"ordertype\": \"limit\", \n",
    "    \"pair\": \"XBTUSD\",\n",
    "    \"price\": 37500, \n",
    "    \"type\": \"buy\",\n",
    "    \"volume\": 1.25\n",
    "}\n",
    "\n",
    "signature = get_kraken_signature(\"/0/private/AddOrder\", data, api_sec)\n",
    "print(\"API-Sign: {}\".format(signature))"
   ]
  },
  {
   "cell_type": "code",
   "execution_count": 5,
   "metadata": {},
   "outputs": [],
   "source": [
    "import json\n",
    "\n",
    "# Opening JSON file\n",
    "with open('api_keys.json') as json_file:\n",
    "    api_keys = json.load(json_file)"
   ]
  }
 ],
 "metadata": {
  "interpreter": {
   "hash": "b05fb7ffbc4efac8a081a836b8340e2954276688b6f8ec287ff66744eadbf760"
  },
  "kernelspec": {
   "display_name": "Python 3.9.12 ('TMapi')",
   "language": "python",
   "name": "python3"
  },
  "language_info": {
   "codemirror_mode": {
    "name": "ipython",
    "version": 3
   },
   "file_extension": ".py",
   "mimetype": "text/x-python",
   "name": "python",
   "nbconvert_exporter": "python",
   "pygments_lexer": "ipython3",
   "version": "3.9.12"
  },
  "orig_nbformat": 4
 },
 "nbformat": 4,
 "nbformat_minor": 2
}
